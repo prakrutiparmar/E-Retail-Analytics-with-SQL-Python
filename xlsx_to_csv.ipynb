{
  "nbformat": 4,
  "nbformat_minor": 0,
  "metadata": {
    "colab": {
      "provenance": []
    },
    "kernelspec": {
      "name": "python3",
      "display_name": "Python 3"
    },
    "language_info": {
      "name": "python"
    }
  },
  "cells": [
    {
      "cell_type": "code",
      "source": [
        "from google.colab import drive\n",
        "drive.mount('/content/drive')\n"
      ],
      "metadata": {
        "colab": {
          "base_uri": "https://localhost:8080/"
        },
        "id": "9lV8FfjP-K2z",
        "outputId": "37a5b677-fa72-4ff3-f410-cc045d321a2f"
      },
      "execution_count": 12,
      "outputs": [
        {
          "output_type": "stream",
          "name": "stdout",
          "text": [
            "Drive already mounted at /content/drive; to attempt to forcibly remount, call drive.mount(\"/content/drive\", force_remount=True).\n"
          ]
        }
      ]
    },
    {
      "cell_type": "code",
      "source": [
        "file_path = \"/content/drive/MyDrive/Colab Notebooks/E-Tailers Sales Data.xlsx\"\n"
      ],
      "metadata": {
        "id": "EpBY_I0D_h7W"
      },
      "execution_count": 13,
      "outputs": []
    },
    {
      "cell_type": "code",
      "source": [
        "xls = pd.ExcelFile(file_path, engine=\"openpyxl\")\n",
        "\n",
        "print(\"Available sheets:\", xls.sheet_names)  # check sheet names first\n",
        "\n",
        "# Loop through all sheets and save as CSV\n",
        "for sheet in xls.sheet_names:\n",
        "    df = pd.read_excel(file_path, sheet_name=sheet, engine=\"openpyxl\")\n",
        "    output_path = \"/content/drive/MyDrive/Colab Notebooks\"\n",
        "    df.to_csv(output_path + f\"{sheet}.csv\", index=False)\n",
        "    print(f\"Saved {sheet}.csv\")"
      ],
      "metadata": {
        "colab": {
          "base_uri": "https://localhost:8080/"
        },
        "id": "nrkr-AY3_1mL",
        "outputId": "f5b8719a-1234-43c0-aa72-7709dff534bc"
      },
      "execution_count": 14,
      "outputs": [
        {
          "output_type": "stream",
          "name": "stdout",
          "text": [
            "Available sheets: ['Data1', 'Data', 'Electronics_', 'Clothing_Survey_', 'Profiles']\n",
            "Saved Data1.csv\n",
            "Saved Data.csv\n",
            "Saved Electronics_.csv\n",
            "Saved Clothing_Survey_.csv\n",
            "Saved Profiles.csv\n"
          ]
        }
      ]
    },
    {
      "cell_type": "code",
      "source": [
        "import os\n",
        "print(os.listdir(\"/content\"))\n"
      ],
      "metadata": {
        "colab": {
          "base_uri": "https://localhost:8080/"
        },
        "id": "KTwUURfQAQjk",
        "outputId": "a68a96b5-ddac-4784-d006-9715f1c875c9"
      },
      "execution_count": 8,
      "outputs": [
        {
          "output_type": "stream",
          "name": "stdout",
          "text": [
            "['.config', 'Data1.csv', 'drive', 'Electronics_.csv', 'Profiles.csv', 'Clothing_Survey_.csv', 'E-Tailers Sales Data.xlsx', 'Data.csv', 'sample_data']\n"
          ]
        }
      ]
    },
    {
      "cell_type": "code",
      "source": [
        "output_path = \"/content/drive/MyDrive/Colab Notebooks\"\n",
        "df.to_csv(output_path + f\"{sheet}.csv\", index=False)\n"
      ],
      "metadata": {
        "id": "zzQf-DQMAVwL"
      },
      "execution_count": 11,
      "outputs": []
    }
  ]
}